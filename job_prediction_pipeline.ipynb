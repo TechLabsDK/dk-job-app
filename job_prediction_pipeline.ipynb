{
 "cells": [
  {
   "cell_type": "code",
   "execution_count": 1,
   "id": "f08c8ae4-073c-4be8-b15a-ada51cbf38f4",
   "metadata": {},
   "outputs": [],
   "source": [
    "import joblib\n",
    "import json\n",
    "import pandas as pd\n"
   ]
  },
  {
   "cell_type": "code",
   "execution_count": 3,
   "id": "f7356f21-f257-41cc-aa89-3b69816683ef",
   "metadata": {},
   "outputs": [],
   "source": [
    "# 加载训练好的模型\n",
    "model = joblib.load(\"D:/job_app_model/knn_model_new.joblib\")"
   ]
  },
  {
   "cell_type": "code",
   "execution_count": 48,
   "id": "ddd70b91-5b53-45ac-acba-5cd0b9605dcf",
   "metadata": {},
   "outputs": [],
   "source": [
    "# 加载字段顺序\n",
    "X_cols = ['english_proficiency',\n",
    " 'skill_prototyping',\n",
    " 'skill_python',\n",
    " 'skill_insurance',\n",
    " 'skill_quick learner',\n",
    " 'skill_grid analysis',\n",
    " 'skill_api development',\n",
    " 'skill_java script',\n",
    " 'skill_sql',\n",
    " 'skill_vue',\n",
    " 'skill_machine learning',\n",
    " 'skill_guidewire',\n",
    " 'skill_java',\n",
    " 'skill_html',\n",
    " 'skill_excel',\n",
    " 'skill_biotechnology microbiology quality control',\n",
    " 'skill_web development',\n",
    " 'skill_user research',\n",
    " 'skill_machine learning and data analysis',\n",
    " 'skill_statistical methods',\n",
    " 'skill_data cleaning',\n",
    " 'skill_git',\n",
    " 'skill_ux design',\n",
    " 'skill_solar power simulations',\n",
    " 'skill_ai enthusiastic',\n",
    " 'skill_c#',\n",
    " 'skill_pandas',\n",
    " 'skill_strong mathematics background',\n",
    " 'skill_wireframing',\n",
    " 'skill_cloud computing',\n",
    " 'skill_photography',\n",
    " 'skill_data modeling',\n",
    " 'skill_data visualization',\n",
    " 'skill_mobile app development',\n",
    " 'skill_figma',\n",
    " 'skill_problem solving',\n",
    " 'skill_electrical engineering',\n",
    " 'skill_teamwork',\n",
    " 'skill_dustribution',\n",
    " 'skill_ui design',\n",
    " 'skill_time management',\n",
    " 'skill_adaptability',\n",
    " 'skill_ml',\n",
    " 'skill_programming and software development',\n",
    " 'skill_design thinking',\n",
    " 'skill_data analysis',\n",
    " 'skill_numpy',\n",
    " 'skill_typescript',\n",
    " 'skill_css',\n",
    " 'skill_power bi',\n",
    " 'skill_react',\n",
    " 'skill_javascript',\n",
    " 'skill_domain',\n",
    " 'skill_communication',\n",
    " 'tool_',\n",
    " 'tool_python',\n",
    " 'tool_jupyter',\n",
    " 'tool_python (basic level)',\n",
    " 'tool_sql',\n",
    " 'tool_tableau',\n",
    " 'tool_postman',\n",
    " 'tool_java',\n",
    " 'tool_1. code development and scripting',\n",
    " 'tool_html',\n",
    " 'tool_docker',\n",
    " 'tool_2. web development',\n",
    " 'tool_nextjs',\n",
    " 'tool_adobe xd',\n",
    " 'tool_powerbi',\n",
    " 'tool_aws',\n",
    " 'tool_c#',\n",
    " 'tool_c program',\n",
    " 'tool_webpack',\n",
    " 'tool_sql workbench',\n",
    " 'tool_github',\n",
    " 'tool_css',\n",
    " 'tool_matlab',\n",
    " 'tool_adobe',\n",
    " 'tool_r',\n",
    " 'tool_etc…',\n",
    " 'tool_typescript',\n",
    " 'tool_vs code',\n",
    " 'tool_azure',\n",
    " 'tool_figma',\n",
    " 'tool_react',\n",
    " 'tool_javascript',\n",
    " 'danish_proficiency_encoded',\n",
    " 'living_in_denmark_encoded',\n",
    " 'prior_dk_experience_encoded',\n",
    " 'role_grouped_it_backend',\n",
    " 'role_grouped_it_data',\n",
    " 'role_grouped_it_design',\n",
    " 'role_grouped_it_frontend',\n",
    " 'role_grouped_it_fullstack',\n",
    " 'role_grouped_it_other',\n",
    " 'role_grouped_non_tech',\n",
    " 'role_grouped_other',\n",
    " 'role_grouped_tech_other',\n",
    " 'location_Aarhus',\n",
    " 'location_Copenhagen',\n",
    " 'location_Hillerod',\n",
    " 'location_Odense',\n",
    " \"education_level_Bachelor's\",\n",
    " 'education_level_High school ',\n",
    " \"education_level_Master's\",\n",
    " 'education_level_PhD',\n",
    " 'major_grouped_art',\n",
    " 'major_grouped_business',\n",
    " 'major_grouped_humanity',\n",
    " 'major_grouped_it',\n",
    " 'major_grouped_other',\n",
    " 'major_grouped_science',\n",
    " 'visa_status_Job Seeker Visa',\n",
    " 'visa_status_Residence Permit',\n",
    " 'visa_status_Student Visa']\n"
   ]
  },
  {
   "cell_type": "code",
   "execution_count": 50,
   "id": "89ad9b8b-bca3-42c5-8909-7d2e10103ea7",
   "metadata": {},
   "outputs": [],
   "source": [
    "# 加载用户输入\n",
    "with open('D:/job_app_model/test_example.json', 'r') as f:\n",
    "    user_input = json.load(f)"
   ]
  },
  {
   "cell_type": "code",
   "execution_count": 52,
   "id": "aebb6d48-681a-4d42-b5fc-f42049634758",
   "metadata": {},
   "outputs": [],
   "source": [
    "# 构造 DataFrame，补齐所有字段\n",
    "df = pd.DataFrame([user_input])\n",
    "df = df.reindex(columns=X_cols, fill_value=0)"
   ]
  },
  {
   "cell_type": "code",
   "execution_count": 54,
   "id": "3e6a3e12-2c15-47f1-aa82-cf8e6ad1f28d",
   "metadata": {},
   "outputs": [
    {
     "name": "stdout",
     "output_type": "stream",
     "text": [
      "The predicted probability of finding a job is: 60%\n"
     ]
    }
   ],
   "source": [
    "# 预测\n",
    "probability = model.predict_proba(df)[0][1]\n",
    "print(f\"The predicted probability of finding a job is: {probability:.0%}\")"
   ]
  }
 ],
 "metadata": {
  "kernelspec": {
   "display_name": "Python [conda env:base] *",
   "language": "python",
   "name": "conda-base-py"
  },
  "language_info": {
   "codemirror_mode": {
    "name": "ipython",
    "version": 3
   },
   "file_extension": ".py",
   "mimetype": "text/x-python",
   "name": "python",
   "nbconvert_exporter": "python",
   "pygments_lexer": "ipython3",
   "version": "3.12.7"
  }
 },
 "nbformat": 4,
 "nbformat_minor": 5
}
